{
 "cells": [
  {
   "cell_type": "code",
   "execution_count": 4,
   "metadata": {},
   "outputs": [],
   "source": [
    "import pandas as pd\n",
    "import numpy as np"
   ]
  },
  {
   "cell_type": "code",
   "execution_count": 9,
   "metadata": {},
   "outputs": [],
   "source": [
    "mylist = [1.1,2,3,4,5]\n",
    "myarray = np.array(mylist)\n"
   ]
  },
  {
   "cell_type": "code",
   "execution_count": 10,
   "metadata": {},
   "outputs": [
    {
     "name": "stdout",
     "output_type": "stream",
     "text": [
      "0    1.1\n",
      "1    2.0\n",
      "2    3.0\n",
      "3    4.0\n",
      "4    5.0\n",
      "dtype: float64\n",
      "0    1.1\n",
      "1    2.0\n",
      "2    3.0\n",
      "3    4.0\n",
      "4    5.0\n",
      "dtype: float64\n"
     ]
    }
   ],
   "source": [
    "myseries1 = pd.Series(data=mylist)\n",
    "print(myseries1)\n",
    "myseries2 = pd.Series(data=myarray)\n",
    "print(myseries2)"
   ]
  },
  {
   "cell_type": "code",
   "execution_count": 11,
   "metadata": {},
   "outputs": [
    {
     "name": "stdout",
     "output_type": "stream",
     "text": [
      "3.0\n"
     ]
    }
   ],
   "source": [
    "print(myseries1[2])"
   ]
  },
  {
   "cell_type": "code",
   "execution_count": 23,
   "metadata": {},
   "outputs": [
    {
     "name": "stdout",
     "output_type": "stream",
     "text": [
      "first     1.1\n",
      "second    2.0\n",
      "third     3.0\n",
      "forth     4.0\n",
      "fifth     5.0\n",
      "dtype: float64\n",
      "fifth     NaN\n",
      "first     2.1\n",
      "forth     NaN\n",
      "second    4.0\n",
      "third     6.0\n",
      "dtype: float64\n",
      "\n",
      " MySeries Concatenated \n",
      "          0    1\n",
      "first   1.1  1.0\n",
      "second  2.0  2.0\n",
      "third   3.0  3.0\n",
      "forth   4.0  NaN\n",
      "fifth   5.0  NaN\n",
      "\n",
      " MySeries Concatenated however row axis\n",
      "first     1.1\n",
      "second    2.0\n",
      "third     3.0\n",
      "forth     4.0\n",
      "fifth     5.0\n",
      "first     1.0\n",
      "second    2.0\n",
      "third     3.0\n",
      "dtype: float64\n"
     ]
    }
   ],
   "source": [
    "mylabels = ['first','second','third','forth','fifth']\n",
    "myseries3 = pd.Series(data=myarray,index=mylabels)\n",
    "print(myseries3)\n",
    "myseries4 = pd.Series([1,2,3],['first','second','third'])\n",
    "print(myseries3+myseries4)\n",
    "myseries5 = pd.concat([myseries3,myseries4], axis=1, sort=False)\n",
    "myseries6 = pd.concat([myseries3,myseries4], axis=0, sort=False)\n",
    "print(\"\\n MySeries Concatenated \\n\" + str(myseries5))\n",
    "print(\"\\n MySeries Concatenated however row axis\\n\" + str(myseries6))"
   ]
  },
  {
   "cell_type": "code",
   "execution_count": 50,
   "metadata": {},
   "outputs": [
    {
     "name": "stdout",
     "output_type": "stream",
     "text": [
      "          0         1         2         3         4\n",
      "0  0.144714  1.073298  0.817739 -0.488205 -0.091070\n",
      "1 -1.244720  0.736693  0.889667  0.831829 -0.478815\n",
      "2  0.138463  0.431211  0.504256 -0.316567  0.730218\n",
      "3  1.140313  0.282659  1.168368  0.839732 -1.566947\n",
      "4  0.553838 -1.465215  1.063094 -1.483273  2.031806\n"
     ]
    }
   ],
   "source": [
    "#df1 = pd.DataFrame(np.random.randn(5,5),index = [\"First Row\",\"Second Row\", \"Third Row\", \"Fourth Row\", \"Fifth Row\"], columns=[\"Customer No\", \"Customer ID\", \"Customer SSN\", \"Customer PIN\", \"Customer JFK\"])\n",
    "df1 = pd.DataFrame(np.random.randn(5,5))\n",
    "print(df1)"
   ]
  },
  {
   "cell_type": "code",
   "execution_count": 52,
   "metadata": {},
   "outputs": [
    {
     "name": "stdout",
     "output_type": "stream",
     "text": [
      "0    0.144714\n",
      "1   -1.244720\n",
      "2    0.138463\n",
      "3    1.140313\n",
      "4    0.553838\n",
      "Name: 0, dtype: float64\n"
     ]
    }
   ],
   "source": [
    "print(df1[0])"
   ]
  }
 ],
 "metadata": {
  "kernelspec": {
   "display_name": "Python 3",
   "language": "python",
   "name": "python3"
  },
  "language_info": {
   "codemirror_mode": {
    "name": "ipython",
    "version": 3
   },
   "file_extension": ".py",
   "mimetype": "text/x-python",
   "name": "python",
   "nbconvert_exporter": "python",
   "pygments_lexer": "ipython3",
   "version": "3.8.5"
  }
 },
 "nbformat": 4,
 "nbformat_minor": 4
}
