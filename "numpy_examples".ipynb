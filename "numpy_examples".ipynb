{
 "cells": [
  {
   "cell_type": "code",
   "execution_count": 2,
   "metadata": {},
   "outputs": [],
   "source": [
    "### Kannan's numpy practice exercise....\n",
    "import numpy as np"
   ]
  },
  {
   "cell_type": "code",
   "execution_count": 7,
   "metadata": {},
   "outputs": [
    {
     "name": "stdout",
     "output_type": "stream",
     "text": [
      "-1.0\n",
      "3.0\n",
      "5.2\n"
     ]
    }
   ],
   "source": [
    "print(np.cos(np.pi))\n",
    "print(np.sqrt(1.21))\n",
    "print(np.log(np.exp(5.2)))"
   ]
  },
  {
   "cell_type": "code",
   "execution_count": 16,
   "metadata": {},
   "outputs": [
    {
     "name": "stdout",
     "output_type": "stream",
     "text": [
      "[1 2 3]\n",
      "\n",
      "[[1 2 3]\n",
      " [4 5 6]\n",
      " [7 8 9]]\n",
      "\n",
      "[[1 4 7]\n",
      " [2 5 8]\n",
      " [3 6 9]]\n"
     ]
    }
   ],
   "source": [
    "# NumPy can be used to create matrix called Arrays. Arrays can be two or more dimensions.\n",
    "# A single dimensional array is called as Vector. Two or more dimensional arrays called matrix.\n",
    "# Numpy allows necessary functionals to create, manipulate and store arrays.\n",
    "# Vector can be created by convert a list into array\n",
    "# Matrix is list of lists.\n",
    "\n",
    "vec = np.array([1,2,3])\n",
    "print(vec)\n",
    "mat = np.array([[1,2,3],[4,5,6],[7,8,9]])\n",
    "print(\"\\n\" + str(mat))\n",
    "print(\"\\n\" + str(mat.T))"
   ]
  },
  {
   "cell_type": "code",
   "execution_count": 17,
   "metadata": {},
   "outputs": [
    {
     "name": "stdout",
     "output_type": "stream",
     "text": [
      "[ 0  1  2  3  4  5  6  7  8  9 10 11 12 13 14 15 16 17 18 19]\n",
      "\n",
      "[ 3  9 15]\n"
     ]
    }
   ],
   "source": [
    "# you can create a numpy array using a range of numbers using arange() function. syntax Obj.arange(x,y,z)\n",
    "# x is starting position that is inclusive\n",
    "# y is ending position that is exclusive\n",
    "# z is step size\n",
    "\n",
    "vec2 = np.arange(0,20)\n",
    "print(vec2)\n",
    "\n",
    "vec3 = np.arange(3,21,6)\n",
    "print(\"\\n\" + str(vec3))"
   ]
  },
  {
   "cell_type": "code",
   "execution_count": 24,
   "metadata": {},
   "outputs": [
    {
     "name": "stdout",
     "output_type": "stream",
     "text": [
      "[0.         0.55555556 1.11111111 1.66666667 2.22222222 2.77777778\n",
      " 3.33333333 3.88888889 4.44444444 5.        ]\n",
      "\n",
      "\n",
      "\n",
      "[[0.         0.55555556]\n",
      " [1.11111111 1.66666667]\n",
      " [2.22222222 2.77777778]\n",
      " [3.33333333 3.88888889]\n",
      " [4.44444444 5.        ]]\n",
      "\n",
      " Vector 5 \n",
      "[[0.         0.55555556]\n",
      " [1.11111111 1.66666667]\n",
      " [2.22222222 2.77777778]\n",
      " [3.33333333 3.88888889]\n",
      " [4.44444444 5.        ]]\n"
     ]
    }
   ],
   "source": [
    "# in a Linear space is starting and ending point is inclusive unlike arange where ending point is exclusive. \n",
    "# reshape is used to convert an array to different dimensional array.\n",
    "\n",
    "vec4 =  np.linspace(0,5,10)\n",
    "print(vec4)\n",
    "print(\"\\n\")\n",
    "print(\"\\n\" + str(vec4.reshape(5,2)))\n",
    "vec5 = vec4.reshape(5,2)\n",
    "print(\"\\n Vector 5 \\n\" + str(vec5))"
   ]
  },
  {
   "cell_type": "code",
   "execution_count": 29,
   "metadata": {},
   "outputs": [
    {
     "name": "stdout",
     "output_type": "stream",
     "text": [
      "[[0. 0. 0.]\n",
      " [0. 0. 0.]\n",
      " [0. 0. 0.]\n",
      " [0. 0. 0.]\n",
      " [0. 0. 0.]]\n",
      "\n",
      "\n",
      "[[1. 1. 1.]\n",
      " [1. 1. 1.]\n",
      " [1. 1. 1.]\n",
      " [1. 1. 1.]\n",
      " [1. 1. 1.]]\n",
      "\n",
      "\n",
      "[[1. 0. 0. 0. 0.]\n",
      " [0. 1. 0. 0. 0.]\n",
      " [0. 0. 1. 0. 0.]\n",
      " [0. 0. 0. 1. 0.]\n",
      " [0. 0. 0. 0. 1.]]\n"
     ]
    }
   ],
   "source": [
    "\n",
    "# Obj.zeros(no of rows, no of colnms) functions create matrix with zeros \n",
    "mat2 = np.zeros([5,3])\n",
    "print(mat2)\n",
    "\n",
    "# Obj.ones(no of rows, no of colnms) functions create matrix with ones \n",
    "mat3 = np.ones([5,3])\n",
    "print(\"\\n\")\n",
    "print(mat3)\n",
    "\n",
    "# Obj.eye(num) functions create matrix a square matrix of specified size and assigns one in identical row, columns  \n",
    "mat5 = np.eye(5)\n",
    "print(\"\\n\")\n",
    "print(mat5)"
   ]
  },
  {
   "cell_type": "code",
   "execution_count": 35,
   "metadata": {},
   "outputs": [
    {
     "name": "stdout",
     "output_type": "stream",
     "text": [
      "[1 2 3 4 5]\n",
      "[3 4 5 6 7]\n",
      "[ 4  6  8 10 12]\n",
      "[ 3  8 15 24 35]\n",
      "[1.         0.5        0.33333333 0.25       0.2       ]\n",
      "[1.73205081 2.         2.23606798 2.44948974 2.64575131]\n"
     ]
    }
   ],
   "source": [
    "# matrix manipulations\n",
    "\n",
    "\n",
    "vec5 = np.arange(1,6)\n",
    "vec6 = np.arange(3,8)\n",
    "print(vec5)\n",
    "print(vec6)\n",
    "vec7 = vec5 + vec6\n",
    "print(vec7)\n",
    "\n",
    "vec8 = vec5 * vec6\n",
    "print(vec8)\n",
    "print(1/vec5)\n",
    "print(np.sqrt(vec6))"
   ]
  },
  {
   "cell_type": "code",
   "execution_count": 43,
   "metadata": {},
   "outputs": [
    {
     "name": "stdout",
     "output_type": "stream",
     "text": [
      "[[1 2 3]\n",
      " [4 5 6]\n",
      " [7 8 9]]\n",
      "[1 2 3]\n",
      "[14 32 50]\n"
     ]
    }
   ],
   "source": [
    "# matmul is a function that can be used to multiply matrices. syntax Obj.matmul(matrix1, matrix2)\n",
    "\n",
    "print(mat)\n",
    "print(vec)\n",
    "product = np.matmul(mat,vec)\n",
    "print(product)"
   ]
  },
  {
   "cell_type": "code",
   "execution_count": 52,
   "metadata": {},
   "outputs": [
    {
     "name": "stdout",
     "output_type": "stream",
     "text": [
      "[-0.8  5.6  1.2]\n",
      "\n",
      "[[ 3.15251974e+15 -6.30503948e+15  3.15251974e+15]\n",
      " [-6.30503948e+15  1.26100790e+16 -6.30503948e+15]\n",
      " [ 3.15251974e+15 -6.30503948e+15  3.15251974e+15]]\n"
     ]
    }
   ],
   "source": [
    "#linalg can find \n",
    "\n",
    "print(np.linalg.solve(mat,product))\n",
    "print()\n",
    "print(np.linalg.inv(mat))"
   ]
  },
  {
   "cell_type": "code",
   "execution_count": 53,
   "metadata": {},
   "outputs": [
    {
     "name": "stdout",
     "output_type": "stream",
     "text": [
      "\n",
      "[[0.16433538 0.33938759 0.0726224  0.72618158 0.58807746]\n",
      " [0.66973374 0.14170613 0.58518456 0.58542568 0.04524912]\n",
      " [0.87020396 0.81496854 0.54724045 0.82577974 0.76628234]\n",
      " [0.59642801 0.26325762 0.21442954 0.36111544 0.27849197]\n",
      " [0.02505578 0.70350378 0.50954495 0.19733136 0.48053009]]\n",
      "\n",
      "[[0.00213951 0.47073049 0.29557193 0.60693861 0.43352348]\n",
      " [0.07526941 0.9439609  0.90138034 0.81082636 0.0813904 ]\n",
      " [0.99537633 0.8287587  0.75124876 0.70216498 0.28851989]\n",
      " [0.52080859 0.13843343 0.2519268  0.10589357 0.23661751]\n",
      " [0.21306224 0.04575106 0.43620673 0.15915527 0.66209495]\n",
      " [0.87571306 0.95876258 0.26987727 0.20189202 0.29723064]\n",
      " [0.32101703 0.89864308 0.80230469 0.48747222 0.07318361]\n",
      " [0.7313324  0.27798502 0.45654225 0.38986876 0.88163884]\n",
      " [0.4521782  0.15424784 0.17490217 0.65734386 0.89336302]\n",
      " [0.88048925 0.13322687 0.38921854 0.15990452 0.96269882]]\n"
     ]
    }
   ],
   "source": [
    "# we can use numpy to generate samples of a rangdom variable\n",
    "\n",
    "rand_mat = np.random.rand(5,5) #uniform random variable. uniform in value 0 and 1\n",
    "rand_mat2= np.random.rand(10,5) #standard normal random variable. \n",
    "print()\n",
    "print(rand_mat)\n",
    "print()\n",
    "print(rand_mat2)"
   ]
  },
  {
   "cell_type": "code",
   "execution_count": 56,
   "metadata": {},
   "outputs": [
    {
     "name": "stdout",
     "output_type": "stream",
     "text": [
      "0.4548826880240011\n",
      "0.3075656441304473\n",
      "Min and Max\n",
      "0.025055776120267548\n",
      "0.995376329584225\n"
     ]
    }
   ],
   "source": [
    "## numpy can be used to calculate mean and standard deviation\n",
    "print(np.mean(rand_mat))\n",
    "print(np.std(rand_mat2))\n",
    "\n",
    "print(\"Min and Max\")\n",
    "print(np.min(rand_mat))\n",
    "print(np.max(rand_mat2))"
   ]
  },
  {
   "cell_type": "code",
   "execution_count": 3,
   "metadata": {},
   "outputs": [
    {
     "name": "stdout",
     "output_type": "stream",
     "text": [
      "[ 1.60349081  1.43905489  0.38812999 -1.07172555 -0.95207438  0.6700085\n",
      "  0.92370682 -1.25453347 -0.07159513 -1.63712838  0.75192881  0.99270313\n",
      " -0.17939815 -0.42872661 -0.01328746 -0.64623978  0.10180735 -0.67669598\n",
      " -1.90705136]\n",
      "0.9237068160789245\n"
     ]
    }
   ],
   "source": [
    "rand_vec = np.random.randn(19)\n",
    "print(rand_vec)\n",
    "print(rand_vec[6])"
   ]
  },
  {
   "cell_type": "code",
   "execution_count": 4,
   "metadata": {},
   "outputs": [
    {
     "name": "stdout",
     "output_type": "stream",
     "text": [
      "[-0.95207438  0.6700085   0.92370682 -1.25453347 -0.07159513]\n"
     ]
    }
   ],
   "source": [
    "#accessing multiple entries at once using numpy array\n",
    "print(rand_vec[4:9])"
   ]
  },
  {
   "cell_type": "code",
   "execution_count": 16,
   "metadata": {},
   "outputs": [
    {
     "name": "stdout",
     "output_type": "stream",
     "text": [
      "[ 0  3  6  9 12]\n",
      "[-5.         -0.69322551 -5.         -0.04822138 -0.83239137]\n"
     ]
    }
   ],
   "source": [
    "print(np.arange(0,15,3))\n",
    "print(rand_vec[np.arange(0,15,3)])"
   ]
  },
  {
   "cell_type": "code",
   "execution_count": 17,
   "metadata": {},
   "outputs": [
    {
     "name": "stdout",
     "output_type": "stream",
     "text": [
      "[[ 1.42592024  0.97663832  0.31615884  1.4780667  -0.47079796]\n",
      " [ 1.9452025  -1.04159918  0.00236168  0.16778174  0.90414548]\n",
      " [ 0.14576987 -1.17819282 -0.33225465  1.21870442 -1.39103952]\n",
      " [ 0.26531893  0.66191332  0.57587937 -0.95761329  0.22252164]\n",
      " [-0.07503436  1.04952511  0.12322204 -0.54017143 -0.12063614]]\n",
      "0.5758793743135224\n",
      "0.5758793743135224\n"
     ]
    }
   ],
   "source": [
    "#randn function can be used to assign random float values in an array \n",
    "rand_mat = np.random.randn(5,5)\n",
    "print(rand_mat)\n",
    "print(rand_mat[3,2])\n",
    "print(rand_mat[3][2])"
   ]
  },
  {
   "cell_type": "code",
   "execution_count": 18,
   "metadata": {},
   "outputs": [
    {
     "name": "stdout",
     "output_type": "stream",
     "text": [
      "[[ 1.4780667  -0.47079796]\n",
      " [ 0.16778174  0.90414548]\n",
      " [ 1.21870442 -1.39103952]]\n",
      "\n",
      "[[ 1.42592024e+00  9.76638321e-01  3.16158840e-01  9.00000000e+00\n",
      "   9.00000000e+00]\n",
      " [ 1.94520250e+00 -1.04159918e+00  2.36168049e-03  9.00000000e+00\n",
      "   9.00000000e+00]\n",
      " [ 1.45769869e-01 -1.17819282e+00 -3.32254646e-01  9.00000000e+00\n",
      "   9.00000000e+00]\n",
      " [ 2.65318930e-01  6.61913320e-01  5.75879374e-01 -9.57613293e-01\n",
      "   2.22521642e-01]\n",
      " [-7.50343623e-02  1.04952511e+00  1.23222042e-01 -5.40171427e-01\n",
      "  -1.20636142e-01]]\n",
      "\n",
      "\n",
      "[[ 1.42592024e+00  9.76638321e-01  3.16158840e-01  1.00000000e+00\n",
      "   2.00000000e+00]\n",
      " [ 1.94520250e+00 -1.04159918e+00  2.36168049e-03  3.00000000e+00\n",
      "   4.00000000e+00]\n",
      " [ 1.45769869e-01 -1.17819282e+00 -3.32254646e-01  5.00000000e+00\n",
      "   6.00000000e+00]\n",
      " [ 2.65318930e-01  6.61913320e-01  5.75879374e-01 -9.57613293e-01\n",
      "   2.22521642e-01]\n",
      " [-7.50343623e-02  1.04952511e+00  1.23222042e-01 -5.40171427e-01\n",
      "  -1.20636142e-01]]\n"
     ]
    }
   ],
   "source": [
    "#slicing a matrix\n",
    "print(rand_mat[0:3,3:5])\n",
    "rand_mat[0:3,3:5] = 9\n",
    "print()\n",
    "print(rand_mat)\n",
    "print()\n",
    "rand_mat[0:3,3:5] = [[1,2],[3,4],[5,6]]\n",
    "print()\n",
    "print(rand_mat)"
   ]
  },
  {
   "cell_type": "code",
   "execution_count": 19,
   "metadata": {
    "scrolled": true
   },
   "outputs": [
    {
     "name": "stdout",
     "output_type": "stream",
     "text": [
      "[[ 1.42592024e+00  9.76638321e-01  3.16158840e-01  1.00000000e+00\n",
      "   2.00000000e+00]\n",
      " [ 1.94520250e+00 -1.04159918e+00  2.36168049e-03  3.00000000e+00\n",
      "   4.00000000e+00]\n",
      " [ 1.45769869e-01 -1.17819282e+00 -3.32254646e-01  5.00000000e+00\n",
      "   6.00000000e+00]\n",
      " [ 2.65318930e-01  6.61913320e-01  5.75879374e-01 -9.57613293e-01\n",
      "   2.22521642e-01]\n",
      " [-7.50343623e-02  1.04952511e+00  1.23222042e-01 -5.40171427e-01\n",
      "  -1.20636142e-01]]\n",
      "[[1. 2.]\n",
      " [3. 4.]\n",
      " [5. 6.]]\n",
      "[[7. 7.]\n",
      " [7. 7.]\n",
      " [7. 7.]]\n",
      "[[ 1.42592024e+00  9.76638321e-01  3.16158840e-01  1.00000000e+00\n",
      "   2.00000000e+00]\n",
      " [ 1.94520250e+00 -1.04159918e+00  2.36168049e-03  3.00000000e+00\n",
      "   4.00000000e+00]\n",
      " [ 1.45769869e-01 -1.17819282e+00 -3.32254646e-01  5.00000000e+00\n",
      "   6.00000000e+00]\n",
      " [ 2.65318930e-01  6.61913320e-01  5.75879374e-01 -9.57613293e-01\n",
      "   2.22521642e-01]\n",
      " [-7.50343623e-02  1.04952511e+00  1.23222042e-01 -5.40171427e-01\n",
      "  -1.20636142e-01]]\n"
     ]
    }
   ],
   "source": [
    "# creating a matrix from another matrix. IF new matrix value is changes, then the original matrix also changes. \n",
    "# this is like the pointers in C or C++ where the new value actually linked to the original value.\n",
    "# In order to ensure that the original values doesnt get changed, use copy() function\n",
    "\n",
    "print(rand_mat)\n",
    "sub_mat = rand_mat[0:3,3:5].copy()\n",
    "print(sub_mat)\n",
    "sub_mat[:] = 7\n",
    "print(sub_mat)\n",
    "print(rand_mat)"
   ]
  },
  {
   "cell_type": "code",
   "execution_count": 28,
   "metadata": {},
   "outputs": [
    {
     "name": "stdout",
     "output_type": "stream",
     "text": [
      "[-0.54981607 -1.90803004  1.34061818 -0.47522279  1.1937306  -0.49331225\n",
      " -0.59896834  0.59085431  0.19041415  0.26396739  0.54531573  0.46551564\n",
      "  0.41685042 -1.2782901  -0.46540817]\n",
      "[False False  True False  True False False  True  True  True  True  True\n",
      "  True False False]\n",
      "[1.34061818 1.1937306  0.59085431 0.19041415 0.26396739 0.54531573\n",
      " 0.46551564 0.41685042]\n",
      "[-0.54981607 -1.90803004 -5.         -0.47522279 -5.         -0.49331225\n",
      " -0.59896834 -5.          0.19041415  0.26396739 -5.          0.46551564\n",
      "  0.41685042 -1.2782901  -0.46540817]\n",
      "\n",
      "Loaded vector....\n",
      "\n",
      "[-0.54981607 -1.90803004 -5.         -0.47522279 -5.         -0.49331225\n",
      " -0.59896834 -5.          0.19041415  0.26396739 -5.          0.46551564\n",
      "  0.41685042 -1.2782901  -0.46540817]\n",
      "\n",
      " Loaded zipped random vector \n",
      "\n",
      "[-0.54981607 -1.90803004 -5.         -0.47522279 -5.         -0.49331225\n",
      " -0.59896834 -5.          0.19041415  0.26396739 -5.          0.46551564\n",
      "  0.41685042 -1.2782901  -0.46540817]\n",
      "\n",
      " Loaded zipped random matrix \n",
      "\n",
      "[[ 1.42592024e+00  9.76638321e-01  3.16158840e-01  1.00000000e+00\n",
      "   2.00000000e+00]\n",
      " [ 1.94520250e+00 -1.04159918e+00  2.36168049e-03  3.00000000e+00\n",
      "   4.00000000e+00]\n",
      " [ 1.45769869e-01 -1.17819282e+00 -3.32254646e-01  5.00000000e+00\n",
      "   6.00000000e+00]\n",
      " [ 2.65318930e-01  6.61913320e-01  5.75879374e-01 -9.57613293e-01\n",
      "   2.22521642e-01]\n",
      " [-7.50343623e-02  1.04952511e+00  1.23222042e-01 -5.40171427e-01\n",
      "  -1.20636142e-01]]\n",
      "\n",
      " Random Vector Text \n",
      "[-0.54981607 -1.90803004 -5.         -0.47522279 -5.         -0.49331225\n",
      " -0.59896834 -5.          0.19041415  0.26396739 -5.          0.46551564\n",
      "  0.41685042 -1.2782901  -0.46540817]\n"
     ]
    }
   ],
   "source": [
    "rand_vec = np.random.randn(15)\n",
    "print(rand_vec)\n",
    "print(rand_vec>0)\n",
    "print(rand_vec[rand_vec>0])\n",
    "rand_vec[rand_vec>.5] = -5\n",
    "print(rand_vec)\n",
    "np.save(\"Rand_vec\", rand_vec) #save() stores single numpy array\n",
    "load_vec = np.load('rand_vec.npy')\n",
    "print(\"\\nLoaded vector....\\n\")\n",
    "print(load_vec)\n",
    "np.savez(\"zip_data\", rand_vec=rand_vec, rand_mat=rand_mat)\n",
    "load_zip = np.load('zip_data.npz')\n",
    "print(\"\\n Loaded zipped random vector \\n\")\n",
    "print(load_zip['rand_vec'])\n",
    "\n",
    "print(\"\\n Loaded zipped random matrix \\n\")\n",
    "print(load_zip['rand_mat'])\n",
    "\n",
    "np.savetxt(\"rand_vector.txt\",rand_vec, delimiter=\",\")\n",
    "rand_vec_txt = np.loadtxt(\"rand_vector.txt\")\n",
    "print(\"\\n Random Vector Text \\n\" + str(rand_vec_txt))"
   ]
  },
  {
   "cell_type": "code",
   "execution_count": null,
   "metadata": {},
   "outputs": [],
   "source": []
  }
 ],
 "metadata": {
  "kernelspec": {
   "display_name": "Python 3",
   "language": "python",
   "name": "python3"
  },
  "language_info": {
   "codemirror_mode": {
    "name": "ipython",
    "version": 3
   },
   "file_extension": ".py",
   "mimetype": "text/x-python",
   "name": "python",
   "nbconvert_exporter": "python",
   "pygments_lexer": "ipython3",
   "version": "3.8.5"
  }
 },
 "nbformat": 4,
 "nbformat_minor": 4
}
